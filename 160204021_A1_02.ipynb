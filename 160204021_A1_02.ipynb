{
 "cells": [
  {
   "cell_type": "code",
   "execution_count": 1,
   "metadata": {},
   "outputs": [],
   "source": [
    "import numpy as np\n",
    "import pandas as pd\n",
    "import matplotlib.pyplot as plt\n",
    "from random import seed\n",
    "from random import random"
   ]
  },
  {
   "cell_type": "code",
   "execution_count": 2,
   "metadata": {},
   "outputs": [],
   "source": [
    "traindataset=pd.read_csv('train-perceptron.txt',sep=\" \",header=None)\n",
    "trn=traindataset.to_numpy();\n",
    "#print(trn)"
   ]
  },
  {
   "cell_type": "code",
   "execution_count": 3,
   "metadata": {},
   "outputs": [],
   "source": [
    "class1 =[([i[0],i[1],i[2]]) for i in trn if i[2] == 1]\n",
    "class1 = np.array(class1)\n",
    "class2 =[([i[0],i[1],i[2]]) for i in trn if i[2] == 2]\n",
    "class2 = np.array(class2)\n",
    "Trainx = np.concatenate((class1, class2))\n",
    "#print(Trainx)"
   ]
  },
  {
   "cell_type": "code",
   "execution_count": 4,
   "metadata": {},
   "outputs": [
    {
     "data": {
      "image/png": "[encoded data removed]",
      "text/plain": [
       "<Figure size 1080x720 with 1 Axes>"
      ]
     },
     "metadata": {
      "needs_background": "light"
     },
     "output_type": "display_data"
    }
   ],
   "source": [
    "fig, axis = plt.subplots()\n",
    "fig.set_figheight(10)\n",
    "fig.set_figwidth(15)\n",
    "\n",
    "#scatting train values\n",
    "axis.scatter(class1[:,0],class1[:,1],marker='x',color='orange',s=70,label='Class 1')\n",
    "axis.scatter(class2[:,0],class2[:,1],marker='x',color='blue',s=70,label='Class 2')\n",
    "#labeling decoration \n",
    "legend = axis.legend(loc='upper center',fontsize='large',labelspacing=1.0)\n",
    "legend.get_frame().set_facecolor('yellow')"
   ]
  },
  {
   "cell_type": "code",
   "execution_count": 5,
   "metadata": {},
   "outputs": [],
   "source": [
    "y=np.ones([6,6])\n",
    "y[:,0]=Trainx[:,0]**2\n",
    "y[:,1]=Trainx[:,1]**2\n",
    "y[:,2]=Trainx[:,0]*Trainx[:,1]\n",
    "y[:,3]=Trainx[:,0]\n",
    "y[:,4]=Trainx[:,1]\n",
    "y[3:6,:]*=-1\n",
    "#print(a)"
   ]
  },
  {
   "cell_type": "code",
   "execution_count": 6,
   "metadata": {},
   "outputs": [],
   "source": [
    "wz = np.zeros([6])\n",
    "wo = np.ones([6])\n",
    "seed(2)\n",
    "ra = []\n",
    "for _ in range(6):\n",
    "    value = random()\n",
    "    ra.append(value)\n",
    "    \n",
    "wr =np.array(ra)\n",
    "#print(wr)\n",
    "    \n",
    "TrainX = np.concatenate((class1, class2))\n",
    "w =np.concatenate((wz,wo,wr))\n",
    "w = w.reshape(3,6)\n",
    "#print(w.ndim)\n",
    "#print(w)\n",
    "alp =np.round(np.arange(.1,1.1,.1),1)\n",
    "#print(alp)\n",
    "totalconverge=[]\n",
    "for i in w:\n",
    "    converge=[]\n",
    "    #print(i)\n",
    "    for j in alp:\n",
    "        #print(j)\n",
    "        temp = i\n",
    "        cc=0\n",
    "        itr=0\n",
    "        while itr<200 and cc<len(y):\n",
    "            itr += 1\n",
    "            cc=0\n",
    "            for ix in y:\n",
    "                \n",
    "                g =np.dot(ix,np.transpose(temp).reshape(6,1))\n",
    "                #print(temp)\n",
    "                if g <= 0:\n",
    "                    temp = temp +j*ix\n",
    "                   # print(temp)\n",
    "                else:\n",
    "                    cc = cc +1\n",
    "        converge.append(itr)\n",
    "        #print(converge)\n",
    "    totalconverge.append(converge)  \n",
    "#print(totalconverge)"
   ]
  },
  {
   "cell_type": "code",
   "execution_count": 7,
   "metadata": {},
   "outputs": [],
   "source": [
    "totalconverge1 = []\n",
    "for i in w:\n",
    "    converge1=[]\n",
    "    #print(i)\n",
    "    for j in alp:\n",
    "        #print(j)\n",
    "        temp = i\n",
    "        itr=0\n",
    "        flag=False\n",
    "        while itr<200 and flag!=True:\n",
    "            itr += 1\n",
    "            g =np.dot(y,np.transpose(temp)).reshape(6,1)\n",
    "                #print(temp)\n",
    "            mc=np.array(np.where(g<=0.0))\n",
    "            temp = temp+np.sum(y[mc[0],:],axis=0)*j\n",
    "            #print(temp)\n",
    "            if len(mc[0]) == 0 :\n",
    "                flag = True        \n",
    "        converge1.append(itr)\n",
    "        #print(converge1)\n",
    "    totalconverge1.append(converge1)  \n",
    "#print(totalconverge1)"
   ]
  },
  {
   "cell_type": "code",
   "execution_count": 8,
   "metadata": {},
   "outputs": [
    {
     "name": "stdout",
     "output_type": "stream",
     "text": [
      "[0 1 2 3 4 5 6 7 8 9]\n"
     ]
    },
    {
     "data": {
      "image/png": "[encoded data removed]",
      "text/plain": [
       "<Figure size 432x288 with 1 Axes>"
      ]
     },
     "metadata": {
      "needs_background": "light"
     },
     "output_type": "display_data"
    }
   ],
   "source": [
    "x=np.arange(10)\n",
    "print(x)\n",
    "width = 0.35\n",
    "fig = plt.figure()\n",
    "ax = fig.add_axes([0,0,1,1])\n",
    "ax.bar(x-width/2,totalconverge[0],width,color=\"blue\")\n",
    "ax.bar(x+width/2,totalconverge1[0],width,color=\"orange\")\n",
    "plt.xticks(x, ('.1', '.2', '.3', '.4','.5','.6','.7','.8','.9','1.'))\n",
    "ax.legend(labels=['one at a time', 'many at a time'])\n",
    "\n",
    "\n",
    "\n",
    "#ax.bar(alp,tconverge[1],width)\n",
    "plt.show()"
   ]
  },
  {
   "cell_type": "code",
   "execution_count": 9,
   "metadata": {},
   "outputs": [
    {
     "data": {
      "image/png": "[encoded data removed]",
      "text/plain": [
       "<Figure size 432x288 with 1 Axes>"
      ]
     },
     "metadata": {
      "needs_background": "light"
     },
     "output_type": "display_data"
    }
   ],
   "source": [
    "x=np.arange(10)\n",
    "#print(x)\n",
    "width = 0.35\n",
    "fig = plt.figure()\n",
    "ax = fig.add_axes([0,0,1,1])\n",
    "ax.bar(x-width/2,totalconverge[1],width,color=\"blue\")\n",
    "ax.bar(x+width/2,totalconverge1[1],width,color=\"orange\")\n",
    "plt.xticks(x, ('.1', '.2', '.3', '.4','.5','.6','.7','.8','.9','1.'))\n",
    "ax.legend(labels=['one at a time', 'many at a time'])\n",
    "\n",
    "#ax.bar(alp,tconverge[1],width)\n",
    "plt.show()"
   ]
  },
  {
   "cell_type": "code",
   "execution_count": 10,
   "metadata": {},
   "outputs": [
    {
     "data": {
      "image/png": "[encoded data removed]",
      "text/plain": [
       "<Figure size 432x288 with 1 Axes>"
      ]
     },
     "metadata": {
      "needs_background": "light"
     },
     "output_type": "display_data"
    }
   ],
   "source": [
    "x=np.arange(10)\n",
    "#print(x)\n",
    "width = 0.35\n",
    "fig = plt.figure()\n",
    "ax = fig.add_axes([0,0,1,1])\n",
    "ax.bar(x-width/2,totalconverge[2],width,color=\"blue\")\n",
    "ax.bar(x+width/2,totalconverge1[2],width,color=\"orange\")\n",
    "plt.xticks(x, ('.1', '.2', '.3', '.4','.5','.6','.7','.8','.9','1.'))\n",
    "ax.legend(labels=['one at a time', 'many at a time'])\n",
    "\n",
    "#ax.bar(alp,tconverge[1],width)\n",
    "plt.show()"
   ]
  },
  {
   "cell_type": "code",
   "execution_count": 12,
   "metadata": {},
   "outputs": [
    {
     "name": "stdout",
     "output_type": "stream",
     "text": [
      "\u001b[1mInitial Weight Vector All Zeros\u001b[0m\n"
     ]
    },
    {
     "data": {
      "text/html": [
       "<div>\n",
       "<style scoped>\n",
       "    .dataframe tbody tr th:only-of-type {\n",
       "        vertical-align: middle;\n",
       "    }\n",
       "\n",
       "    .dataframe tbody tr th {\n",
       "        vertical-align: top;\n",
       "    }\n",
       "\n",
       "    .dataframe thead th {\n",
       "        text-align: right;\n",
       "    }\n",
       "</style>\n",
       "<table border=\"1\" class=\"dataframe\">\n",
       "  <thead>\n",
       "    <tr style=\"text-align: right;\">\n",
       "      <th></th>\n",
       "      <th>learning rate</th>\n",
       "      <th>one at a time</th>\n",
       "      <th>many at a time</th>\n",
       "    </tr>\n",
       "  </thead>\n",
       "  <tbody>\n",
       "    <tr>\n",
       "      <th>0</th>\n",
       "      <td>0.1</td>\n",
       "      <td>94</td>\n",
       "      <td>105</td>\n",
       "    </tr>\n",
       "    <tr>\n",
       "      <th>1</th>\n",
       "      <td>0.2</td>\n",
       "      <td>94</td>\n",
       "      <td>105</td>\n",
       "    </tr>\n",
       "    <tr>\n",
       "      <th>2</th>\n",
       "      <td>0.3</td>\n",
       "      <td>94</td>\n",
       "      <td>105</td>\n",
       "    </tr>\n",
       "    <tr>\n",
       "      <th>3</th>\n",
       "      <td>0.4</td>\n",
       "      <td>94</td>\n",
       "      <td>105</td>\n",
       "    </tr>\n",
       "    <tr>\n",
       "      <th>4</th>\n",
       "      <td>0.5</td>\n",
       "      <td>94</td>\n",
       "      <td>92</td>\n",
       "    </tr>\n",
       "    <tr>\n",
       "      <th>5</th>\n",
       "      <td>0.6</td>\n",
       "      <td>94</td>\n",
       "      <td>105</td>\n",
       "    </tr>\n",
       "    <tr>\n",
       "      <th>6</th>\n",
       "      <td>0.7</td>\n",
       "      <td>94</td>\n",
       "      <td>92</td>\n",
       "    </tr>\n",
       "    <tr>\n",
       "      <th>7</th>\n",
       "      <td>0.8</td>\n",
       "      <td>94</td>\n",
       "      <td>105</td>\n",
       "    </tr>\n",
       "    <tr>\n",
       "      <th>8</th>\n",
       "      <td>0.9</td>\n",
       "      <td>94</td>\n",
       "      <td>105</td>\n",
       "    </tr>\n",
       "    <tr>\n",
       "      <th>9</th>\n",
       "      <td>1.0</td>\n",
       "      <td>94</td>\n",
       "      <td>92</td>\n",
       "    </tr>\n",
       "  </tbody>\n",
       "</table>\n",
       "</div>"
      ],
      "text/plain": [
       "   learning rate  one at a time  many at a time\n",
       "0            0.1             94             105\n",
       "1            0.2             94             105\n",
       "2            0.3             94             105\n",
       "3            0.4             94             105\n",
       "4            0.5             94              92\n",
       "5            0.6             94             105\n",
       "6            0.7             94              92\n",
       "7            0.8             94             105\n",
       "8            0.9             94             105\n",
       "9            1.0             94              92"
      ]
     },
     "execution_count": 12,
     "metadata": {},
     "output_type": "execute_result"
    }
   ],
   "source": [
    "print('\\033[1m' + 'Initial Weight Vector All Zeros' + '\\033[0m')\n",
    "plotdata = pd.DataFrame({\n",
    "    \"learning rate\":alp.tolist(),\n",
    "     \"one at a time\":totalconverge[0],\n",
    "    \"many at a time\":totalconverge1[0]\n",
    "    },\n",
    "    \n",
    ")\n",
    "plotdata"
   ]
  },
  {
   "cell_type": "code",
   "execution_count": 13,
   "metadata": {},
   "outputs": [
    {
     "name": "stdout",
     "output_type": "stream",
     "text": [
      "\u001b[1mInitial Weight Vector All Ones\u001b[0m\n"
     ]
    },
    {
     "data": {
      "text/html": [
       "<div>\n",
       "<style scoped>\n",
       "    .dataframe tbody tr th:only-of-type {\n",
       "        vertical-align: middle;\n",
       "    }\n",
       "\n",
       "    .dataframe tbody tr th {\n",
       "        vertical-align: top;\n",
       "    }\n",
       "\n",
       "    .dataframe thead th {\n",
       "        text-align: right;\n",
       "    }\n",
       "</style>\n",
       "<table border=\"1\" class=\"dataframe\">\n",
       "  <thead>\n",
       "    <tr style=\"text-align: right;\">\n",
       "      <th></th>\n",
       "      <th>learning rate</th>\n",
       "      <th>one at a time</th>\n",
       "      <th>many at a time</th>\n",
       "    </tr>\n",
       "  </thead>\n",
       "  <tbody>\n",
       "    <tr>\n",
       "      <th>0</th>\n",
       "      <td>0.1</td>\n",
       "      <td>6</td>\n",
       "      <td>102</td>\n",
       "    </tr>\n",
       "    <tr>\n",
       "      <th>1</th>\n",
       "      <td>0.2</td>\n",
       "      <td>92</td>\n",
       "      <td>104</td>\n",
       "    </tr>\n",
       "    <tr>\n",
       "      <th>2</th>\n",
       "      <td>0.3</td>\n",
       "      <td>104</td>\n",
       "      <td>91</td>\n",
       "    </tr>\n",
       "    <tr>\n",
       "      <th>3</th>\n",
       "      <td>0.4</td>\n",
       "      <td>106</td>\n",
       "      <td>116</td>\n",
       "    </tr>\n",
       "    <tr>\n",
       "      <th>4</th>\n",
       "      <td>0.5</td>\n",
       "      <td>93</td>\n",
       "      <td>105</td>\n",
       "    </tr>\n",
       "    <tr>\n",
       "      <th>5</th>\n",
       "      <td>0.6</td>\n",
       "      <td>93</td>\n",
       "      <td>114</td>\n",
       "    </tr>\n",
       "    <tr>\n",
       "      <th>6</th>\n",
       "      <td>0.7</td>\n",
       "      <td>108</td>\n",
       "      <td>91</td>\n",
       "    </tr>\n",
       "    <tr>\n",
       "      <th>7</th>\n",
       "      <td>0.8</td>\n",
       "      <td>115</td>\n",
       "      <td>91</td>\n",
       "    </tr>\n",
       "    <tr>\n",
       "      <th>8</th>\n",
       "      <td>0.9</td>\n",
       "      <td>94</td>\n",
       "      <td>105</td>\n",
       "    </tr>\n",
       "    <tr>\n",
       "      <th>9</th>\n",
       "      <td>1.0</td>\n",
       "      <td>94</td>\n",
       "      <td>93</td>\n",
       "    </tr>\n",
       "  </tbody>\n",
       "</table>\n",
       "</div>"
      ],
      "text/plain": [
       "   learning rate  one at a time  many at a time\n",
       "0            0.1              6             102\n",
       "1            0.2             92             104\n",
       "2            0.3            104              91\n",
       "3            0.4            106             116\n",
       "4            0.5             93             105\n",
       "5            0.6             93             114\n",
       "6            0.7            108              91\n",
       "7            0.8            115              91\n",
       "8            0.9             94             105\n",
       "9            1.0             94              93"
      ]
     },
     "execution_count": 13,
     "metadata": {},
     "output_type": "execute_result"
    }
   ],
   "source": [
    "print('\\033[1m' + 'Initial Weight Vector All Ones' + '\\033[0m')\n",
    "plotdata = pd.DataFrame({\n",
    "    \"learning rate\":alp.tolist(),\n",
    "     \"one at a time\":totalconverge[1],\n",
    "    \"many at a time\":totalconverge1[1]\n",
    "    },\n",
    "    \n",
    ")\n",
    "plotdata"
   ]
  },
  {
   "cell_type": "code",
   "execution_count": 14,
   "metadata": {},
   "outputs": [
    {
     "name": "stdout",
     "output_type": "stream",
     "text": [
      "\u001b[1mInitial Weight Vector Random Seed Values\u001b[0m\n"
     ]
    },
    {
     "data": {
      "text/html": [
       "<div>\n",
       "<style scoped>\n",
       "    .dataframe tbody tr th:only-of-type {\n",
       "        vertical-align: middle;\n",
       "    }\n",
       "\n",
       "    .dataframe tbody tr th {\n",
       "        vertical-align: top;\n",
       "    }\n",
       "\n",
       "    .dataframe thead th {\n",
       "        text-align: right;\n",
       "    }\n",
       "</style>\n",
       "<table border=\"1\" class=\"dataframe\">\n",
       "  <thead>\n",
       "    <tr style=\"text-align: right;\">\n",
       "      <th></th>\n",
       "      <th>learning rate</th>\n",
       "      <th>one at a time</th>\n",
       "      <th>many at a time</th>\n",
       "    </tr>\n",
       "  </thead>\n",
       "  <tbody>\n",
       "    <tr>\n",
       "      <th>0</th>\n",
       "      <td>0.1</td>\n",
       "      <td>87</td>\n",
       "      <td>114</td>\n",
       "    </tr>\n",
       "    <tr>\n",
       "      <th>1</th>\n",
       "      <td>0.2</td>\n",
       "      <td>102</td>\n",
       "      <td>119</td>\n",
       "    </tr>\n",
       "    <tr>\n",
       "      <th>2</th>\n",
       "      <td>0.3</td>\n",
       "      <td>93</td>\n",
       "      <td>119</td>\n",
       "    </tr>\n",
       "    <tr>\n",
       "      <th>3</th>\n",
       "      <td>0.4</td>\n",
       "      <td>111</td>\n",
       "      <td>116</td>\n",
       "    </tr>\n",
       "    <tr>\n",
       "      <th>4</th>\n",
       "      <td>0.5</td>\n",
       "      <td>114</td>\n",
       "      <td>107</td>\n",
       "    </tr>\n",
       "    <tr>\n",
       "      <th>5</th>\n",
       "      <td>0.6</td>\n",
       "      <td>94</td>\n",
       "      <td>105</td>\n",
       "    </tr>\n",
       "    <tr>\n",
       "      <th>6</th>\n",
       "      <td>0.7</td>\n",
       "      <td>104</td>\n",
       "      <td>88</td>\n",
       "    </tr>\n",
       "    <tr>\n",
       "      <th>7</th>\n",
       "      <td>0.8</td>\n",
       "      <td>94</td>\n",
       "      <td>121</td>\n",
       "    </tr>\n",
       "    <tr>\n",
       "      <th>8</th>\n",
       "      <td>0.9</td>\n",
       "      <td>99</td>\n",
       "      <td>115</td>\n",
       "    </tr>\n",
       "    <tr>\n",
       "      <th>9</th>\n",
       "      <td>1.0</td>\n",
       "      <td>110</td>\n",
       "      <td>88</td>\n",
       "    </tr>\n",
       "  </tbody>\n",
       "</table>\n",
       "</div>"
      ],
      "text/plain": [
       "   learning rate  one at a time  many at a time\n",
       "0            0.1             87             114\n",
       "1            0.2            102             119\n",
       "2            0.3             93             119\n",
       "3            0.4            111             116\n",
       "4            0.5            114             107\n",
       "5            0.6             94             105\n",
       "6            0.7            104              88\n",
       "7            0.8             94             121\n",
       "8            0.9             99             115\n",
       "9            1.0            110              88"
      ]
     },
     "execution_count": 14,
     "metadata": {},
     "output_type": "execute_result"
    }
   ],
   "source": [
    "print('\\033[1m' + 'Initial Weight Vector Random Seed Values' + '\\033[0m')\n",
    "plotdata = pd.DataFrame({\n",
    "    \"learning rate\":alp.tolist(),\n",
    "     \"one at a time\":totalconverge[2],\n",
    "    \"many at a time\":totalconverge1[2]\n",
    "    },\n",
    "    \n",
    ")\n",
    "plotdata"
   ]
  },
  {
   "cell_type": "code",
   "execution_count": null,
   "metadata": {},
   "outputs": [],
   "source": []
  }
 ],
 "metadata": {
  "kernelspec": {
   "display_name": "Python 3",
   "language": "python",
   "name": "python3"
  },
  "language_info": {
   "codemirror_mode": {
    "name": "ipython",
    "version": 3
   },
   "file_extension": ".py",
   "mimetype": "text/x-python",
   "name": "python",
   "nbconvert_exporter": "python",
   "pygments_lexer": "ipython3",
   "version": "3.8.5"
  }
 },
 "nbformat": 4,
 "nbformat_minor": 4
}
